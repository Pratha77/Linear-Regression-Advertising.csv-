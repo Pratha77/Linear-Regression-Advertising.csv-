{
 "cells": [
  {
   "cell_type": "markdown",
   "metadata": {},
   "source": [
    "# Step 1. Import Dependencies"
   ]
  },
  {
   "cell_type": "code",
   "execution_count": 1,
   "metadata": {},
   "outputs": [],
   "source": [
    "import pandas as pd\n",
    "import matplotlib.pyplot as plt\n",
    "import numpy as np\n",
    "import seaborn as sns\n",
    "from sklearn.preprocessing import StandardScaler\n",
    "from scipy.stats import skew\n",
    "\n",
    "import warnings\n",
    "warnings.filterwarnings(\"ignore\")\n",
    "\n",
    "%matplotlib inline"
   ]
  },
  {
   "cell_type": "markdown",
   "metadata": {},
   "source": [
    "# Step 2. Import Data"
   ]
  },
  {
   "cell_type": "code",
   "execution_count": 2,
   "metadata": {},
   "outputs": [
    {
     "data": {
      "text/html": [
       "<div>\n",
       "<style scoped>\n",
       "    .dataframe tbody tr th:only-of-type {\n",
       "        vertical-align: middle;\n",
       "    }\n",
       "\n",
       "    .dataframe tbody tr th {\n",
       "        vertical-align: top;\n",
       "    }\n",
       "\n",
       "    .dataframe thead th {\n",
       "        text-align: right;\n",
       "    }\n",
       "</style>\n",
       "<table border=\"1\" class=\"dataframe\">\n",
       "  <thead>\n",
       "    <tr style=\"text-align: right;\">\n",
       "      <th></th>\n",
       "      <th>TV</th>\n",
       "      <th>radio</th>\n",
       "      <th>newspaper</th>\n",
       "      <th>sales</th>\n",
       "    </tr>\n",
       "  </thead>\n",
       "  <tbody>\n",
       "    <tr>\n",
       "      <th>1</th>\n",
       "      <td>230.1</td>\n",
       "      <td>37.8</td>\n",
       "      <td>69.2</td>\n",
       "      <td>22.1</td>\n",
       "    </tr>\n",
       "    <tr>\n",
       "      <th>2</th>\n",
       "      <td>44.5</td>\n",
       "      <td>39.3</td>\n",
       "      <td>45.1</td>\n",
       "      <td>10.4</td>\n",
       "    </tr>\n",
       "    <tr>\n",
       "      <th>3</th>\n",
       "      <td>17.2</td>\n",
       "      <td>45.9</td>\n",
       "      <td>69.3</td>\n",
       "      <td>9.3</td>\n",
       "    </tr>\n",
       "    <tr>\n",
       "      <th>4</th>\n",
       "      <td>151.5</td>\n",
       "      <td>41.3</td>\n",
       "      <td>58.5</td>\n",
       "      <td>18.5</td>\n",
       "    </tr>\n",
       "    <tr>\n",
       "      <th>5</th>\n",
       "      <td>180.8</td>\n",
       "      <td>10.8</td>\n",
       "      <td>58.4</td>\n",
       "      <td>12.9</td>\n",
       "    </tr>\n",
       "    <tr>\n",
       "      <th>6</th>\n",
       "      <td>8.7</td>\n",
       "      <td>48.9</td>\n",
       "      <td>75.0</td>\n",
       "      <td>7.2</td>\n",
       "    </tr>\n",
       "    <tr>\n",
       "      <th>7</th>\n",
       "      <td>57.5</td>\n",
       "      <td>32.8</td>\n",
       "      <td>23.5</td>\n",
       "      <td>11.8</td>\n",
       "    </tr>\n",
       "    <tr>\n",
       "      <th>8</th>\n",
       "      <td>120.2</td>\n",
       "      <td>19.6</td>\n",
       "      <td>11.6</td>\n",
       "      <td>13.2</td>\n",
       "    </tr>\n",
       "    <tr>\n",
       "      <th>9</th>\n",
       "      <td>8.6</td>\n",
       "      <td>2.1</td>\n",
       "      <td>1.0</td>\n",
       "      <td>4.8</td>\n",
       "    </tr>\n",
       "    <tr>\n",
       "      <th>10</th>\n",
       "      <td>199.8</td>\n",
       "      <td>2.6</td>\n",
       "      <td>21.2</td>\n",
       "      <td>10.6</td>\n",
       "    </tr>\n",
       "    <tr>\n",
       "      <th>11</th>\n",
       "      <td>66.1</td>\n",
       "      <td>5.8</td>\n",
       "      <td>24.2</td>\n",
       "      <td>8.6</td>\n",
       "    </tr>\n",
       "    <tr>\n",
       "      <th>12</th>\n",
       "      <td>214.7</td>\n",
       "      <td>24.0</td>\n",
       "      <td>4.0</td>\n",
       "      <td>17.4</td>\n",
       "    </tr>\n",
       "    <tr>\n",
       "      <th>13</th>\n",
       "      <td>23.8</td>\n",
       "      <td>35.1</td>\n",
       "      <td>65.9</td>\n",
       "      <td>9.2</td>\n",
       "    </tr>\n",
       "    <tr>\n",
       "      <th>14</th>\n",
       "      <td>97.5</td>\n",
       "      <td>7.6</td>\n",
       "      <td>7.2</td>\n",
       "      <td>9.7</td>\n",
       "    </tr>\n",
       "    <tr>\n",
       "      <th>15</th>\n",
       "      <td>204.1</td>\n",
       "      <td>32.9</td>\n",
       "      <td>46.0</td>\n",
       "      <td>19.0</td>\n",
       "    </tr>\n",
       "  </tbody>\n",
       "</table>\n",
       "</div>"
      ],
      "text/plain": [
       "       TV  radio  newspaper  sales\n",
       "1   230.1   37.8       69.2   22.1\n",
       "2    44.5   39.3       45.1   10.4\n",
       "3    17.2   45.9       69.3    9.3\n",
       "4   151.5   41.3       58.5   18.5\n",
       "5   180.8   10.8       58.4   12.9\n",
       "6     8.7   48.9       75.0    7.2\n",
       "7    57.5   32.8       23.5   11.8\n",
       "8   120.2   19.6       11.6   13.2\n",
       "9     8.6    2.1        1.0    4.8\n",
       "10  199.8    2.6       21.2   10.6\n",
       "11   66.1    5.8       24.2    8.6\n",
       "12  214.7   24.0        4.0   17.4\n",
       "13   23.8   35.1       65.9    9.2\n",
       "14   97.5    7.6        7.2    9.7\n",
       "15  204.1   32.9       46.0   19.0"
      ]
     },
     "execution_count": 2,
     "metadata": {},
     "output_type": "execute_result"
    }
   ],
   "source": [
    "df = pd.read_csv('DATA/Advertising (1).csv', index_col=0) #In data frame TV,radio,newspaper  ka kitna advertisment huha hai wo data se kitna sale badega\n",
    "df.head(15)"
   ]
  },
  {
   "cell_type": "markdown",
   "metadata": {},
   "source": [
    "# Step 3. Data Analysis"
   ]
  },
  {
   "cell_type": "code",
   "execution_count": 3,
   "metadata": {},
   "outputs": [
    {
     "name": "stdout",
     "output_type": "stream",
     "text": [
      "TV           float64\n",
      "radio        float64\n",
      "newspaper    float64\n",
      "sales        float64\n",
      "dtype: object\n",
      "(200, 4)\n",
      "               TV       radio   newspaper       sales\n",
      "count  200.000000  200.000000  200.000000  200.000000\n",
      "mean   147.042500   23.264000   30.554000   14.022500\n",
      "std     85.854236   14.846809   21.778621    5.217457\n",
      "min      0.700000    0.000000    0.300000    1.600000\n",
      "25%     74.375000    9.975000   12.750000   10.375000\n",
      "50%    149.750000   22.900000   25.750000   12.900000\n",
      "75%    218.825000   36.525000   45.100000   17.400000\n",
      "max    296.400000   49.600000  114.000000   27.000000\n"
     ]
    }
   ],
   "source": [
    "print(df.dtypes)\n",
    "print(df.shape)\n",
    "print(df.describe())"
   ]
  },
  {
   "cell_type": "markdown",
   "metadata": {},
   "source": [
    "# Step 4. Check Assumption"
   ]
  },
  {
   "cell_type": "markdown",
   "metadata": {},
   "source": [
    "# Assumption 1. There should Be NO Outelier In Data"
   ]
  },
  {
   "cell_type": "code",
   "execution_count": 4,
   "metadata": {},
   "outputs": [
    {
     "data": {
      "text/plain": [
       "<matplotlib.axes._subplots.AxesSubplot at 0x2bd1cc8f488>"
      ]
     },
     "execution_count": 4,
     "metadata": {},
     "output_type": "execute_result"
    },
    {
     "data": {
      "image/png": "[encoded data removed]",
      "text/plain": [
       "<Figure size 432x288 with 1 Axes>"
      ]
     },
     "metadata": {
      "needs_background": "light"
     },
     "output_type": "display_data"
    }
   ],
   "source": [
    " df.boxplot()#We box plot only for continues numeric data.Linear regression is a parametric algorithm thats why we use assumption as remove outliers"
   ]
  },
  {
   "cell_type": "markdown",
   "metadata": {},
   "source": [
    "### In data frrame we have all the variable in continues numeric values so we create box plot on all columns by this plot we can se there is no outliers in tv,radio,sales but there is a outlies in newspaper contains two outliers"
   ]
  },
  {
   "cell_type": "markdown",
   "metadata": {},
   "source": [
    "# Here we not remove outlires because there are 2 outliers in 200 rows data¶"
   ]
  },
  {
   "cell_type": "markdown",
   "metadata": {},
   "source": [
    "#### NOTE:If Outlier Present then we can treat using below approch\n",
    "1. Elimination\n",
    "    1. Directly droping the variable \n",
    "   \n",
    "2. Treate the outlier \n",
    "    1. using Caping and Floating Approch\n",
    "    2. Replace Using Measure of Central Tendencies\n",
    "    3. Replace Custom Values\n",
    "    \n",
    "3. If Cluster is present the leave them as it is\n",
    "\n",
    "4. Check with client if this is accepteable range or not"
   ]
  },
  {
   "cell_type": "markdown",
   "metadata": {},
   "source": [
    "# Check Missing Data"
   ]
  },
  {
   "cell_type": "code",
   "execution_count": 5,
   "metadata": {},
   "outputs": [
    {
     "data": {
      "text/plain": [
       "TV           0\n",
       "radio        0\n",
       "newspaper    0\n",
       "sales        0\n",
       "dtype: int64"
      ]
     },
     "execution_count": 5,
     "metadata": {},
     "output_type": "execute_result"
    }
   ],
   "source": [
    "df.isnull().sum() # In this data there is no missing values"
   ]
  },
  {
   "cell_type": "code",
   "execution_count": 6,
   "metadata": {},
   "outputs": [],
   "source": [
    "def check_missing_values(data): #In Case there is a missing values \n",
    "    \"\"\"\n",
    "    Objective: Check missing values count and percentage in all columns\n",
    "    \n",
    "    data: input data frame\n",
    "    return: Missing Values data Frame\n",
    "    \n",
    "    \"\"\"\n",
    "    total = data.isnull().sum().sort_values(ascending=False)\n",
    "    per = (data.isnull().sum()/data.isnull().count() * 100).sort_values(ascending=False)\n",
    "    missing_data = pd.concat([total,per],axis=1,keys=['Total','Percent'])\n",
    "    return missing_data"
   ]
  },
  {
   "cell_type": "markdown",
   "metadata": {},
   "source": [
    "Scretch code Without using function"
   ]
  },
  {
   "cell_type": "code",
   "execution_count": 7,
   "metadata": {},
   "outputs": [
    {
     "data": {
      "text/plain": [
       "sales        0\n",
       "newspaper    0\n",
       "radio        0\n",
       "TV           0\n",
       "dtype: int64"
      ]
     },
     "execution_count": 7,
     "metadata": {},
     "output_type": "execute_result"
    }
   ],
   "source": [
    "total = df.isnull().sum().sort_values(ascending=False) #Checking Missing values\n",
    "total"
   ]
  },
  {
   "cell_type": "code",
   "execution_count": 8,
   "metadata": {},
   "outputs": [
    {
     "data": {
      "text/plain": [
       "sales        0.0\n",
       "newspaper    0.0\n",
       "radio        0.0\n",
       "TV           0.0\n",
       "dtype: float64"
      ]
     },
     "execution_count": 8,
     "metadata": {},
     "output_type": "execute_result"
    }
   ],
   "source": [
    "per = (df.isnull().sum()/df.isnull().count() * 100).sort_values(ascending=False) #Checking Missing values in percentage form\n",
    "per"
   ]
  },
  {
   "cell_type": "code",
   "execution_count": 9,
   "metadata": {},
   "outputs": [
    {
     "data": {
      "text/html": [
       "<div>\n",
       "<style scoped>\n",
       "    .dataframe tbody tr th:only-of-type {\n",
       "        vertical-align: middle;\n",
       "    }\n",
       "\n",
       "    .dataframe tbody tr th {\n",
       "        vertical-align: top;\n",
       "    }\n",
       "\n",
       "    .dataframe thead th {\n",
       "        text-align: right;\n",
       "    }\n",
       "</style>\n",
       "<table border=\"1\" class=\"dataframe\">\n",
       "  <thead>\n",
       "    <tr style=\"text-align: right;\">\n",
       "      <th></th>\n",
       "      <th>Total</th>\n",
       "      <th>Percent</th>\n",
       "    </tr>\n",
       "  </thead>\n",
       "  <tbody>\n",
       "    <tr>\n",
       "      <th>sales</th>\n",
       "      <td>0</td>\n",
       "      <td>0.0</td>\n",
       "    </tr>\n",
       "    <tr>\n",
       "      <th>newspaper</th>\n",
       "      <td>0</td>\n",
       "      <td>0.0</td>\n",
       "    </tr>\n",
       "    <tr>\n",
       "      <th>radio</th>\n",
       "      <td>0</td>\n",
       "      <td>0.0</td>\n",
       "    </tr>\n",
       "    <tr>\n",
       "      <th>TV</th>\n",
       "      <td>0</td>\n",
       "      <td>0.0</td>\n",
       "    </tr>\n",
       "  </tbody>\n",
       "</table>\n",
       "</div>"
      ],
      "text/plain": [
       "           Total  Percent\n",
       "sales          0      0.0\n",
       "newspaper      0      0.0\n",
       "radio          0      0.0\n",
       "TV             0      0.0"
      ]
     },
     "execution_count": 9,
     "metadata": {},
     "output_type": "execute_result"
    }
   ],
   "source": [
    "missing_df = pd.concat([total,per],axis=1,keys=['Total','Percent']) #Checking Missing values adding Total and Percentage column\n",
    "missing_df"
   ]
  },
  {
   "cell_type": "code",
   "execution_count": 10,
   "metadata": {},
   "outputs": [
    {
     "data": {
      "text/html": [
       "<div>\n",
       "<style scoped>\n",
       "    .dataframe tbody tr th:only-of-type {\n",
       "        vertical-align: middle;\n",
       "    }\n",
       "\n",
       "    .dataframe tbody tr th {\n",
       "        vertical-align: top;\n",
       "    }\n",
       "\n",
       "    .dataframe thead th {\n",
       "        text-align: right;\n",
       "    }\n",
       "</style>\n",
       "<table border=\"1\" class=\"dataframe\">\n",
       "  <thead>\n",
       "    <tr style=\"text-align: right;\">\n",
       "      <th></th>\n",
       "      <th>Total</th>\n",
       "      <th>Percent</th>\n",
       "    </tr>\n",
       "  </thead>\n",
       "  <tbody>\n",
       "    <tr>\n",
       "      <th>sales</th>\n",
       "      <td>0</td>\n",
       "      <td>0.0</td>\n",
       "    </tr>\n",
       "    <tr>\n",
       "      <th>newspaper</th>\n",
       "      <td>0</td>\n",
       "      <td>0.0</td>\n",
       "    </tr>\n",
       "    <tr>\n",
       "      <th>radio</th>\n",
       "      <td>0</td>\n",
       "      <td>0.0</td>\n",
       "    </tr>\n",
       "    <tr>\n",
       "      <th>TV</th>\n",
       "      <td>0</td>\n",
       "      <td>0.0</td>\n",
       "    </tr>\n",
       "  </tbody>\n",
       "</table>\n",
       "</div>"
      ],
      "text/plain": [
       "           Total  Percent\n",
       "sales          0      0.0\n",
       "newspaper      0      0.0\n",
       "radio          0      0.0\n",
       "TV             0      0.0"
      ]
     },
     "execution_count": 10,
     "metadata": {},
     "output_type": "execute_result"
    }
   ],
   "source": [
    "miss = check_missing_values(df)\n",
    "miss"
   ]
  },
  {
   "cell_type": "markdown",
   "metadata": {},
   "source": [
    "Note:\n",
    "    1. If Missing values contains more than 50% of the data then you can drop the entire column\n",
    "    2. If less than 50% then we can treat those missing values by using Mesure of Central Tendencies\n",
    "    3. If column is Categorial then you can use Mode to replace missing values.\n",
    "    4. If column is Continues Numerical Variable then you can use mean if that variable is npot skewd.\n",
    "    5. If column is contineus Numerical variable with skewd data then we can use Median which is not affected by outliers.\n",
    "    6. You can Predict the missing values by using other feature (not reconnended)\n",
    "    7. You can directly ask to client\n",
    "    8. Common Sence"
   ]
  },
  {
   "cell_type": "markdown",
   "metadata": {},
   "source": [
    "# Assumption No.2"
   ]
  },
  {
   "cell_type": "markdown",
   "metadata": {},
   "source": [
    "# Assumption of Linearity:Ever Independent Variable should have a Linear Relationship Dependent Variable"
   ]
  },
  {
   "cell_type": "code",
   "execution_count": 11,
   "metadata": {},
   "outputs": [
    {
     "data": {
      "image/png": "[encoded data removed]",
      "text/plain": [
       "<Figure size 540x180 with 3 Axes>"
      ]
     },
     "metadata": {
      "needs_background": "light"
     },
     "output_type": "display_data"
    }
   ],
   "source": [
    "sns.pairplot(df,\n",
    "            x_vars=[\"TV\",\"radio\",\"newspaper\"],\n",
    "            y_vars=\"sales\",\n",
    "            kind='reg') #Kind= reg means regression plot\n",
    "plt.show()"
   ]
  },
  {
   "cell_type": "markdown",
   "metadata": {},
   "source": [
    "Note: If the assumption of Linearity is not met then we can drop that variable\n",
    "    - Strong Positive Linear Relationship in Tv and sales\n",
    "    - Moderately Styrong Postive Linear Relationship in Radio and sales\n",
    "    - No Relation in Newspaper Sales also the C.I(Confedence Interval) is also high(TV and radio as Low Confedence Interval )"
   ]
  },
  {
   "cell_type": "code",
   "execution_count": 12,
   "metadata": {},
   "outputs": [
    {
     "data": {
      "text/plain": [
       "Index(['TV', 'radio', 'newspaper', 'sales'], dtype='object')"
      ]
     },
     "execution_count": 12,
     "metadata": {},
     "output_type": "execute_result"
    }
   ],
   "source": [
    "df.columns"
   ]
  },
  {
   "cell_type": "code",
   "execution_count": 13,
   "metadata": {},
   "outputs": [],
   "source": [
    "feature_cols = ['TV','radio','newspaper']\n",
    "X = df[feature_cols]\n",
    "y=df.sales"
   ]
  },
  {
   "cell_type": "code",
   "execution_count": 14,
   "metadata": {},
   "outputs": [
    {
     "data": {
      "text/html": [
       "<div>\n",
       "<style scoped>\n",
       "    .dataframe tbody tr th:only-of-type {\n",
       "        vertical-align: middle;\n",
       "    }\n",
       "\n",
       "    .dataframe tbody tr th {\n",
       "        vertical-align: top;\n",
       "    }\n",
       "\n",
       "    .dataframe thead th {\n",
       "        text-align: right;\n",
       "    }\n",
       "</style>\n",
       "<table border=\"1\" class=\"dataframe\">\n",
       "  <thead>\n",
       "    <tr style=\"text-align: right;\">\n",
       "      <th></th>\n",
       "      <th>TV</th>\n",
       "      <th>radio</th>\n",
       "      <th>newspaper</th>\n",
       "    </tr>\n",
       "  </thead>\n",
       "  <tbody>\n",
       "    <tr>\n",
       "      <th>1</th>\n",
       "      <td>230.1</td>\n",
       "      <td>37.8</td>\n",
       "      <td>69.2</td>\n",
       "    </tr>\n",
       "    <tr>\n",
       "      <th>2</th>\n",
       "      <td>44.5</td>\n",
       "      <td>39.3</td>\n",
       "      <td>45.1</td>\n",
       "    </tr>\n",
       "    <tr>\n",
       "      <th>3</th>\n",
       "      <td>17.2</td>\n",
       "      <td>45.9</td>\n",
       "      <td>69.3</td>\n",
       "    </tr>\n",
       "    <tr>\n",
       "      <th>4</th>\n",
       "      <td>151.5</td>\n",
       "      <td>41.3</td>\n",
       "      <td>58.5</td>\n",
       "    </tr>\n",
       "    <tr>\n",
       "      <th>5</th>\n",
       "      <td>180.8</td>\n",
       "      <td>10.8</td>\n",
       "      <td>58.4</td>\n",
       "    </tr>\n",
       "  </tbody>\n",
       "</table>\n",
       "</div>"
      ],
      "text/plain": [
       "      TV  radio  newspaper\n",
       "1  230.1   37.8       69.2\n",
       "2   44.5   39.3       45.1\n",
       "3   17.2   45.9       69.3\n",
       "4  151.5   41.3       58.5\n",
       "5  180.8   10.8       58.4"
      ]
     },
     "execution_count": 14,
     "metadata": {},
     "output_type": "execute_result"
    }
   ],
   "source": [
    "X.head()"
   ]
  },
  {
   "cell_type": "markdown",
   "metadata": {},
   "source": [
    "# Assumption NO.3"
   ]
  },
  {
   "cell_type": "markdown",
   "metadata": {},
   "source": [
    "Assumption of normality: The dependent variable should follow an approximate nprmal distribution"
   ]
  },
  {
   "cell_type": "code",
   "execution_count": 15,
   "metadata": {},
   "outputs": [
    {
     "data": {
      "image/png": "[encoded data removed]",
      "text/plain": [
       "<Figure size 432x288 with 1 Axes>"
      ]
     },
     "metadata": {
      "needs_background": "light"
     },
     "output_type": "display_data"
    }
   ],
   "source": [
    "sns.distplot(y,hist=True)\n",
    "plt.show()"
   ]
  },
  {
   "cell_type": "markdown",
   "metadata": {},
   "source": [
    "Sale variable is meeting the assumption and we can se the approximate normal distribution"
   ]
  },
  {
   "cell_type": "markdown",
   "metadata": {},
   "source": [
    "Note: if its not normal of if its skewed plot then we can transform the column in different transform \n",
    "    1.Log transform\n",
    "        - Most of the time we prefer log transform because its help smoothing the cure\n",
    "    2.SQRT Transform\n",
    "        - In square root transform we can see pick and some times its also helps in curve smoothing"
   ]
  },
  {
   "cell_type": "markdown",
   "metadata": {},
   "source": [
    "Code to convert log transform\n",
    "y_log = np.log(y)\n",
    "sns.distplot(y.log,hist=True)\n",
    "\n",
    "Note: if data is approximate normal then dont trtansform cause you will get skewed data"
   ]
  },
  {
   "cell_type": "markdown",
   "metadata": {},
   "source": [
    "Note: For good pratice make sure that your X variable does not contain high skewness and if its approximently normal then its good "
   ]
  },
  {
   "cell_type": "code",
   "execution_count": 16,
   "metadata": {},
   "outputs": [
    {
     "data": {
      "image/png": "[encoded data removed]",
      "text/plain": [
       "<Figure size 432x288 with 4 Axes>"
      ]
     },
     "metadata": {
      "needs_background": "light"
     },
     "output_type": "display_data"
    }
   ],
   "source": [
    "# Check hist for all variables\n",
    "X.hist(bins=20)\n",
    "plt.show()"
   ]
  },
  {
   "cell_type": "code",
   "execution_count": 17,
   "metadata": {},
   "outputs": [
    {
     "name": "stdout",
     "output_type": "stream",
     "text": [
      "TV          -0.069328\n",
      "radio        0.093467\n",
      "newspaper    0.887996\n",
      "dtype: float64\n",
      "newspaper    0.887996\n",
      "dtype: float64\n"
     ]
    }
   ],
   "source": [
    "data_num_skew = X.apply(lambda x: skew(x.dropna()))\n",
    "data_num_skewed = data_num_skew[(data_num_skew > 0.75) | (data_num_skew < -0.75)] #| and operation\n",
    "\n",
    "print(data_num_skew)\n",
    "print(data_num_skewed)"
   ]
  },
  {
   "cell_type": "code",
   "execution_count": 18,
   "metadata": {},
   "outputs": [],
   "source": [
    "# apply log + 1 transformation for all numeric feature with Skewness over 0.75\n",
    "X[data_num_skewed.index] = np.log1p(X[data_num_skewed.index])"
   ]
  },
  {
   "cell_type": "markdown",
   "metadata": {},
   "source": [
    "- Range of Skewness is -1 to 1 and value close to 0 means normal distribution"
   ]
  },
  {
   "cell_type": "code",
   "execution_count": 19,
   "metadata": {},
   "outputs": [
    {
     "data": {
      "text/plain": [
       "<function matplotlib.pyplot.show(*args, **kw)>"
      ]
     },
     "execution_count": 19,
     "metadata": {},
     "output_type": "execute_result"
    },
    {
     "data": {
      "image/png": "[encoded data removed]",
      "text/plain": [
       "<Figure size 432x288 with 4 Axes>"
      ]
     },
     "metadata": {
      "needs_background": "light"
     },
     "output_type": "display_data"
    }
   ],
   "source": [
    "# Check hist for all vatriables after log tranformation of newspaper \n",
    "X.hist(bins=20)\n",
    "plt.show"
   ]
  },
  {
   "cell_type": "markdown",
   "metadata": {},
   "source": [
    "Note: Types of models\n",
    "    \n",
    "    Log - Transform\n",
    "    Level - Original\n",
    "    \n",
    "    X     Y\n",
    "    log - log\n",
    "    log - level\n",
    "    level- log\n",
    "    level- level"
   ]
  },
  {
   "cell_type": "markdown",
   "metadata": {},
   "source": [
    "# Assumption No.4"
   ]
  },
  {
   "cell_type": "markdown",
   "metadata": {},
   "source": [
    "- Multicolinearity is problem where one variable is dependent on other, we want dependency between x and y variable but not in the X variable,so if X variable are denpend on each other then the model will not be good\n",
    "- To check the multicolinearity we can use the pearson correlation or VIF(Variance inflation Factor)"
   ]
  },
  {
   "cell_type": "markdown",
   "metadata": {},
   "source": [
    "# Pearson Correlation"
   ]
  },
  {
   "cell_type": "code",
   "execution_count": 20,
   "metadata": {},
   "outputs": [
    {
     "name": "stdout",
     "output_type": "stream",
     "text": [
      "                 TV     radio  newspaper\n",
      "TV         1.000000  0.054809   0.030951\n",
      "radio      0.054809  1.000000   0.251909\n",
      "newspaper  0.030951  0.251909   1.000000\n"
     ]
    }
   ],
   "source": [
    "corr_df = X.corr(method=\"pearson\")\n",
    "print(corr_df)"
   ]
  },
  {
   "cell_type": "code",
   "execution_count": 21,
   "metadata": {},
   "outputs": [
    {
     "data": {
      "image/png": "[encoded data removed]",
      "text/plain": [
       "<Figure size 432x288 with 2 Axes>"
      ]
     },
     "metadata": {
      "needs_background": "light"
     },
     "output_type": "display_data"
    }
   ],
   "source": [
    "sns.heatmap(corr_df, vmax=1.0, vmin=-1.0, annot=True)\n",
    "plt.show()"
   ]
  },
  {
   "cell_type": "markdown",
   "metadata": {},
   "source": [
    "- We want value close to 0 means that is not correleted with each other"
   ]
  },
  {
   "cell_type": "markdown",
   "metadata": {},
   "source": [
    "# Note: If the correlation is high betyween two variable then drop one beacuse both variables carrying the similar information so eliminate the variable but think logically"
   ]
  },
  {
   "cell_type": "markdown",
   "metadata": {},
   "source": [
    "# Check VIF"
   ]
  },
  {
   "cell_type": "markdown",
   "metadata": {},
   "source": [
    "- Sometimes the correlation matrix alone will not help you to check the multicolinearity so you can use VIF"
   ]
  },
  {
   "cell_type": "code",
   "execution_count": 22,
   "metadata": {},
   "outputs": [
    {
     "data": {
      "text/html": [
       "<div>\n",
       "<style scoped>\n",
       "    .dataframe tbody tr th:only-of-type {\n",
       "        vertical-align: middle;\n",
       "    }\n",
       "\n",
       "    .dataframe tbody tr th {\n",
       "        vertical-align: top;\n",
       "    }\n",
       "\n",
       "    .dataframe thead th {\n",
       "        text-align: right;\n",
       "    }\n",
       "</style>\n",
       "<table border=\"1\" class=\"dataframe\">\n",
       "  <thead>\n",
       "    <tr style=\"text-align: right;\">\n",
       "      <th></th>\n",
       "      <th>Features</th>\n",
       "      <th>VIF Factore</th>\n",
       "    </tr>\n",
       "  </thead>\n",
       "  <tbody>\n",
       "    <tr>\n",
       "      <th>0</th>\n",
       "      <td>TV</td>\n",
       "      <td>3.39</td>\n",
       "    </tr>\n",
       "    <tr>\n",
       "      <th>1</th>\n",
       "      <td>radio</td>\n",
       "      <td>3.63</td>\n",
       "    </tr>\n",
       "    <tr>\n",
       "      <th>2</th>\n",
       "      <td>newspaper</td>\n",
       "      <td>5.44</td>\n",
       "    </tr>\n",
       "  </tbody>\n",
       "</table>\n",
       "</div>"
      ],
      "text/plain": [
       "    Features  VIF Factore\n",
       "0         TV         3.39\n",
       "1      radio         3.63\n",
       "2  newspaper         5.44"
      ]
     },
     "execution_count": 22,
     "metadata": {},
     "output_type": "execute_result"
    }
   ],
   "source": [
    "from statsmodels.stats.outliers_influence import variance_inflation_factor as vif\n",
    "\n",
    "vif_df = pd.DataFrame()\n",
    "vif_df[\"Features\"] = X.columns\n",
    "vif_df[\"VIF Factore\"] = [vif(X.values, i) for i in range(X.shape[1])]\n",
    "vif_df.round(2)"
   ]
  },
  {
   "cell_type": "markdown",
   "metadata": {},
   "source": [
    "- Less than 5 value is good in VIF which represent no multicolinearity"
   ]
  },
  {
   "cell_type": "markdown",
   "metadata": {},
   "source": [
    "Note: Once you eliminate one variable based on VIF score then other variables VIF also change and it will decrease so never eliminate all variables so Remove variables with highest value and the run the function again. Also use domain Knowledge dont just depend on VIF values."
   ]
  },
  {
   "cell_type": "markdown",
   "metadata": {},
   "source": [
    "- Normilazation"
   ]
  },
  {
   "cell_type": "markdown",
   "metadata": {},
   "source": [
    "# Train and Test"
   ]
  },
  {
   "cell_type": "code",
   "execution_count": 23,
   "metadata": {},
   "outputs": [],
   "source": [
    "from sklearn.model_selection import train_test_split\n",
    "\n",
    "# we taking test data as 80% and test data we take 20%\n",
    "# >1000 --> TEST SIZE = 0.3\n",
    "# <1000 --> TEST SIZE = 0.2\n",
    "\n",
    "#Split the data into test and train \n",
    "\n",
    "X_train, X_test, y_train, y_test = train_test_split(X,\n",
    "                                                  y,\n",
    "                                                  test_size=0.2,\n",
    "                                                  random_state=10)"
   ]
  },
  {
   "cell_type": "code",
   "execution_count": 24,
   "metadata": {},
   "outputs": [
    {
     "name": "stdout",
     "output_type": "stream",
     "text": [
      "(160, 3)\n",
      "(160,)\n",
      "(40, 3)\n",
      "(40,)\n"
     ]
    }
   ],
   "source": [
    "print(X_train.shape) #3 means 3 columns in X in y there is only 1 column\n",
    "print(y_train.shape)\n",
    "print(X_test.shape)\n",
    "print(y_test.shape)"
   ]
  },
  {
   "cell_type": "code",
   "execution_count": 25,
   "metadata": {},
   "outputs": [],
   "source": [
    "from sklearn.preprocessing import StandardScaler , MinMaxScaler\n",
    "\n",
    "scaler = StandardScaler()\n",
    "\n",
    "scaler.fit(X_train)\n",
    "\n",
    "X_train_scale = scaler.transform(X_train)\n",
    "X_test_scale = scaler.transform(X_test)\n"
   ]
  },
  {
   "cell_type": "code",
   "execution_count": 26,
   "metadata": {},
   "outputs": [
    {
     "data": {
      "text/plain": [
       "array([[-1.29793425,  1.31029192, -1.35769759],\n",
       "       [-0.30629937, -0.1791682 , -0.66511937],\n",
       "       [-0.02736365,  0.49282078, -0.57935984],\n",
       "       [-1.25492655,  0.25727826, -0.06508874],\n",
       "       [ 0.8069859 ,  1.89914824,  0.59493927],\n",
       "       [-1.4539908 ,  0.74914648, -0.12957941],\n",
       "       [ 0.5255926 , -0.34543351, -0.20982097],\n",
       "       [ 1.06871853, -0.94121756, -0.95883841],\n",
       "       [-1.69360518,  0.40968813,  0.69747024],\n",
       "       [-0.07282895, -0.54633743,  0.17393068],\n",
       "       [-1.01776975, -0.6641087 , -0.1863038 ],\n",
       "       [ 0.75906302, -0.955073  ,  0.20720434],\n",
       "       [ 1.85883158,  0.97776129,  1.68208141],\n",
       "       [ 0.22576743,  1.01239989, -1.12041776],\n",
       "       [ 1.13384449, -1.18368781,  0.08158519],\n",
       "       [-1.12590342, -1.39844717, -0.01904066],\n",
       "       [ 1.6192172 ,  1.85065419,  0.70801402],\n",
       "       [ 0.66321727,  0.58288116,  0.62358633],\n",
       "       [-0.13303974, -1.19754325, -0.89144395],\n",
       "       [-0.96124533, -0.72645819,  0.56851678],\n",
       "       [-1.54492138, -0.42856617,  0.02519322],\n",
       "       [ 0.99130465, -0.96892844,  1.03954788],\n",
       "       [ 0.22330985,  0.65215838,  0.96694712],\n",
       "       [ 0.75783423, -1.17676008, -0.12406145],\n",
       "       [ 0.26631756,  1.37264141, -1.79660293],\n",
       "       [ 1.13384449,  0.3681218 , -0.71990604],\n",
       "       [ 1.09820953, -1.30145907,  1.48897231],\n",
       "       [-0.82239187,  1.70517204,  0.4980249 ],\n",
       "       [-0.07160016, -0.53248199, -0.79737841],\n",
       "       [-1.39623759,  0.16721788, -2.20411096],\n",
       "       [-0.04702432,  0.31962775,  0.81789668],\n",
       "       [-1.25369775,  0.31270003,  0.51684496],\n",
       "       [-0.6257852 , -1.19754325, -1.03053748],\n",
       "       [-0.7302325 ,  0.94312268,  0.88932593],\n",
       "       [-0.12198061,  1.35185824,  0.8107368 ],\n",
       "       [ 0.6447854 ,  0.0771575 , -0.45446413],\n",
       "       [-0.94281346,  1.54583445,  0.53229092],\n",
       "       [-1.56335326,  1.06782166, -0.00905923],\n",
       "       [-0.84451012, -1.48157983, -0.41099145],\n",
       "       [ 0.39165431,  0.77685736,  0.62358633],\n",
       "       [-0.84451012,  0.31270003,  0.02519322],\n",
       "       [ 1.16333549, -1.25296502,  0.5714835 ],\n",
       "       [-0.58892145, -1.43308578,  0.34582032],\n",
       "       [-1.16891113, -0.73338591, -0.18050066],\n",
       "       [ 1.00850773, -0.44242161,  0.90264115],\n",
       "       [ 1.44718636, -1.29453135, -0.11857046],\n",
       "       [ 0.46046664,  1.66360571,  1.08170964],\n",
       "       [-0.08880324,  1.67746115,  1.08733824],\n",
       "       [ 1.67451283,  1.20637609,  1.02579386],\n",
       "       [ 0.05619418,  0.92926724, -1.32514737],\n",
       "       [-0.54960012, -0.87194034, -1.79660293],\n",
       "       [ 0.72465685,  0.74221876,  0.8131285 ],\n",
       "       [-0.85802683, -0.13067415,  0.43291077],\n",
       "       [ 0.84016327,  1.44191862,  0.47566192],\n",
       "       [ 1.33536632, -0.06139693,  0.34582032],\n",
       "       [-0.91578004, -0.42856617,  0.68146659],\n",
       "       [ 0.07831243,  1.32414736,  1.0779415 ],\n",
       "       [ 1.02202444, -0.36621668,  0.1989779 ],\n",
       "       [ 1.2051144 ,  1.85758191,  0.77176008],\n",
       "       [ 1.73103724, -0.57404832, -1.77245353],\n",
       "       [-0.86539958,  1.8852928 ,  0.80593805],\n",
       "       [-1.55352292, -0.6987473 ,  0.07699253],\n",
       "       [-0.06914257, -1.39151945,  0.21537096],\n",
       "       [ 0.56491394,  0.45125446, -0.19213708],\n",
       "       [ 0.36830727,  0.02173573,  0.39888077],\n",
       "       [-1.68008847,  0.34733863, -2.23976171],\n",
       "       [ 0.48872885, -0.0821801 ,  0.01064135],\n",
       "       [ 0.25157206, -0.84422946, -0.22778782],\n",
       "       [-0.85556925, -0.78880768, -1.32514737],\n",
       "       [ 1.82442541,  0.38197724, -2.3540539 ],\n",
       "       [-1.05094713, -0.70567503,  0.74161319],\n",
       "       [ 1.47544857, -1.33609768,  0.73906403],\n",
       "       [-0.35790862, -1.00356705,  0.06310076],\n",
       "       [ 0.33635868, -0.28308402,  0.37089418],\n",
       "       [ 0.30809647, -0.99663933,  0.5199512 ],\n",
       "       [-0.49799087, -1.14212148,  0.49485732],\n",
       "       [ 0.86351032,  0.09794066,  1.06082663],\n",
       "       [-1.49085455,  0.89462863,  1.20957129],\n",
       "       [ 0.37568002, -0.4701325 , -2.13603533],\n",
       "       [ 0.85490877,  0.12565155, -1.70297339],\n",
       "       [-1.62110647, -0.43549389,  0.89600328],\n",
       "       [-1.47610905, -0.77495224,  0.33490059],\n",
       "       [ 0.59071856, -0.26230085,  1.2062093 ],\n",
       "       [ 1.16702186, -1.03127793, -0.95883841],\n",
       "       [-1.07675175,  0.73529104,  0.08158519],\n",
       "       [ 0.92372111,  1.85758191, -1.89875551],\n",
       "       [-1.23403709,  0.25035053, -0.05987804],\n",
       "       [-1.73292651, -0.73338591, -1.37433351],\n",
       "       [-1.31636613,  1.25487014, -0.63869688],\n",
       "       [ 1.14367482,  0.83920686, -1.44345711],\n",
       "       [-0.60735333, -1.4400135 , -1.12041776],\n",
       "       [-1.62233526, -1.50929071,  0.17393068],\n",
       "       [ 0.67181881, -1.32224224,  0.50118356],\n",
       "       [-1.32988284,  1.13709888,  1.20452452],\n",
       "       [-0.60120937, -0.51169883,  0.62922907],\n",
       "       [-0.05931224, -1.40537489, -0.92463564],\n",
       "       [ 0.43834839, -0.78880768,  1.07605268],\n",
       "       [ 0.91757715,  0.78378509,  0.79141754],\n",
       "       [-1.47488026,  0.24342281,  0.74669421],\n",
       "       [ 0.6447854 , -1.29453135, -1.34130454],\n",
       "       [ 1.26901157,  0.55517028, -0.07558324],\n",
       "       [ 1.27392674,  0.34041091,  0.05374317],\n",
       "       [-1.18980059,  1.71902748, -0.98223309],\n",
       "       [ 0.23805535, -0.08910782,  0.84608822],\n",
       "       [ 0.14098081, -1.35688084, -1.00612556],\n",
       "       [-0.4340937 , -0.54633743,  0.40576978],\n",
       "       [-0.23871582,  1.01932761,  1.41318135],\n",
       "       [-1.5719548 , -1.25296502,  0.40233056],\n",
       "       [ 0.39165431, -0.89272351, -1.26274776],\n",
       "       [ 1.57989587,  0.4651099 ,  1.10036296],\n",
       "       [ 0.83893448,  0.16721788, -0.53881739],\n",
       "       [-1.09272604, -1.14212148,  0.33490059],\n",
       "       [-0.4635847 , -0.5671206 , -0.72930278],\n",
       "       [-0.29646903, -0.955073  ,  0.87585092],\n",
       "       [ 1.66591128, -0.57404832,  0.5744424 ],\n",
       "       [ 0.28597822, -1.04513338, -0.56296679],\n",
       "       [ 1.29973136,  0.99161673,  1.31216164],\n",
       "       [-0.93298312, -0.1168187 , -0.1863038 ],\n",
       "       [ 1.16702186, -0.38007212,  0.05374317],\n",
       "       [ 1.49633803,  1.49734039, -1.49824378],\n",
       "       [-0.1096927 , -0.20687908, -0.2898425 ],\n",
       "       [-0.39600116, -0.33157807,  0.62075429],\n",
       "       [-0.93544071, -0.89272351, -2.78947737],\n",
       "       [-0.88137387, -0.35928895, -0.55485915],\n",
       "       [-0.4340937 ,  1.77444925,  0.9352544 ],\n",
       "       [-1.63953834,  1.01932761,  0.7938507 ],\n",
       "       [ 1.81582387,  0.42354357,  0.74415658],\n",
       "       [-0.84573892,  0.3681218 , -0.32879105],\n",
       "       [ 0.89177252,  0.78378509,  1.08733824],\n",
       "       [ 0.59686252,  0.91541179,  1.36161037],\n",
       "       [-1.68746122,  1.15788204,  0.91797862],\n",
       "       [ 0.32161318,  1.21330382,  0.59493927],\n",
       "       [-0.58523508, -1.01049477, -1.147477  ],\n",
       "       [-0.30261299,  0.43739901, -0.45446413],\n",
       "       [ 0.90160286, -1.16290464,  0.24745611],\n",
       "       [ 1.75069791,  1.44191862,  1.30447576],\n",
       "       [ 1.48036374, -0.15145731, -3.21560779],\n",
       "       [ 1.15719153, -0.46320478,  0.24349524],\n",
       "       [ 0.9691864 , -1.37073629, -0.35552813],\n",
       "       [-0.67247929, -1.51621844,  0.06775047],\n",
       "       [-0.69828391,  0.22956737,  1.32888767],\n",
       "       [ 1.44472878,  0.45818218, -0.33541588],\n",
       "       [ 0.48872885,  1.50426812, -2.39489127],\n",
       "       [ 0.94952573, -1.23910958,  0.90043288],\n",
       "       [-0.95018621,  0.99854445,  1.81788563],\n",
       "       [-0.86048442,  0.88770091,  0.96277275],\n",
       "       [-0.34316312, -0.51862655, -1.42577322],\n",
       "       [ 0.70499619,  0.00788028,  0.40233056],\n",
       "       [ 1.04414269,  1.08167711,  1.26363838],\n",
       "       [-0.19325053, -1.14212148,  0.39194925],\n",
       "       [-1.67763088, -1.39151945, -2.73187992],\n",
       "       [-1.31390855, -1.28067591, -0.48441001],\n",
       "       [ 0.05742297, -1.44694122,  0.11766553],\n",
       "       [-0.62947158,  1.47655723,  0.91580033],\n",
       "       [-0.27066441,  0.85999002, -0.59599576],\n",
       "       [ 0.7922404 , -0.10989098, -0.7483355 ],\n",
       "       [-0.17236107,  1.42806318,  0.30525123],\n",
       "       [ 0.61775198,  1.76752153,  0.96694712],\n",
       "       [-0.71180062, -0.71953047,  0.18652413],\n",
       "       [ 0.67181881, -1.35688084, -0.02911162]])"
      ]
     },
     "execution_count": 26,
     "metadata": {},
     "output_type": "execute_result"
    }
   ],
   "source": [
    "X_train_scale"
   ]
  },
  {
   "cell_type": "code",
   "execution_count": 27,
   "metadata": {},
   "outputs": [
    {
     "data": {
      "text/plain": [
       "['ARDRegression',\n",
       " 'BayesianRidge',\n",
       " 'ElasticNet',\n",
       " 'ElasticNetCV',\n",
       " 'Hinge',\n",
       " 'Huber',\n",
       " 'HuberRegressor',\n",
       " 'Lars',\n",
       " 'LarsCV',\n",
       " 'Lasso',\n",
       " 'LassoCV',\n",
       " 'LassoLars',\n",
       " 'LassoLarsCV',\n",
       " 'LassoLarsIC',\n",
       " 'LinearRegression',\n",
       " 'Log',\n",
       " 'LogisticRegression',\n",
       " 'LogisticRegressionCV',\n",
       " 'ModifiedHuber',\n",
       " 'MultiTaskElasticNet',\n",
       " 'MultiTaskElasticNetCV',\n",
       " 'MultiTaskLasso',\n",
       " 'MultiTaskLassoCV',\n",
       " 'OrthogonalMatchingPursuit',\n",
       " 'OrthogonalMatchingPursuitCV',\n",
       " 'PassiveAggressiveClassifier',\n",
       " 'PassiveAggressiveRegressor',\n",
       " 'Perceptron',\n",
       " 'RANSACRegressor',\n",
       " 'Ridge',\n",
       " 'RidgeCV',\n",
       " 'RidgeClassifier',\n",
       " 'RidgeClassifierCV',\n",
       " 'SGDClassifier',\n",
       " 'SGDRegressor',\n",
       " 'SquaredLoss',\n",
       " 'TheilSenRegressor',\n",
       " '__all__',\n",
       " '__builtins__',\n",
       " '__cached__',\n",
       " '__doc__',\n",
       " '__file__',\n",
       " '__loader__',\n",
       " '__name__',\n",
       " '__package__',\n",
       " '__path__',\n",
       " '__spec__',\n",
       " '_base',\n",
       " '_bayes',\n",
       " '_cd_fast',\n",
       " '_coordinate_descent',\n",
       " '_huber',\n",
       " '_least_angle',\n",
       " '_logistic',\n",
       " '_omp',\n",
       " '_passive_aggressive',\n",
       " '_perceptron',\n",
       " '_ransac',\n",
       " '_ridge',\n",
       " '_sag',\n",
       " '_sag_fast',\n",
       " '_sgd_fast',\n",
       " '_stochastic_gradient',\n",
       " '_theil_sen',\n",
       " 'enet_path',\n",
       " 'lars_path',\n",
       " 'lars_path_gram',\n",
       " 'lasso_path',\n",
       " 'logistic_regression_path',\n",
       " 'orthogonal_mp',\n",
       " 'orthogonal_mp_gram',\n",
       " 'ridge_regression']"
      ]
     },
     "execution_count": 27,
     "metadata": {},
     "output_type": "execute_result"
    }
   ],
   "source": [
    "from sklearn import linear_model\n",
    "dir(linear_model)"
   ]
  },
  {
   "cell_type": "markdown",
   "metadata": {},
   "source": [
    "# Model Building"
   ]
  },
  {
   "cell_type": "code",
   "execution_count": 28,
   "metadata": {},
   "outputs": [
    {
     "data": {
      "text/plain": [
       "LinearRegression(copy_X=True, fit_intercept=True, n_jobs=None, normalize=False)"
      ]
     },
     "execution_count": 28,
     "metadata": {},
     "output_type": "execute_result"
    }
   ],
   "source": [
    "from sklearn.linear_model import LinearRegression\n",
    "\n",
    "# Creat a model object\n",
    "lm = LinearRegression()\n",
    "\n",
    "#train the model object\n",
    "lm.fit(X_train_scale, y_train)"
   ]
  },
  {
   "cell_type": "code",
   "execution_count": 29,
   "metadata": {},
   "outputs": [
    {
     "name": "stdout",
     "output_type": "stream",
     "text": [
      "13.83125\n",
      "[ 3.55979799  2.786444   -0.04359355]\n"
     ]
    }
   ],
   "source": [
    "# print intercept and coefficients\n",
    "print(lm.intercept_)\n",
    "print(lm.coef_) "
   ]
  },
  {
   "cell_type": "code",
   "execution_count": 30,
   "metadata": {},
   "outputs": [
    {
     "name": "stdout",
     "output_type": "stream",
     "text": [
      "[('TV', 3.5597979869430008), ('radio', 2.786444004240513), ('newspaper', -0.04359354667533281)]\n"
     ]
    }
   ],
   "source": [
    "#pair the feature names with the coefficents\n",
    "print(list(zip(feature_cols, lm.coef_)))"
   ]
  },
  {
   "cell_type": "code",
   "execution_count": 31,
   "metadata": {},
   "outputs": [
    {
     "name": "stdout",
     "output_type": "stream",
     "text": [
      "646.2757717845848\n"
     ]
    }
   ],
   "source": [
    "# Try chaging the value of X\n",
    "\n",
    "X1=100\n",
    "X2=100\n",
    "X3=50\n",
    "\n",
    "y_pred=13.83125 +(3.5597979869430008*X1) + (2.786444004240513*X2) + (-0.04359354667533281*X3)\n",
    "print(y_pred)"
   ]
  },
  {
   "cell_type": "code",
   "execution_count": 32,
   "metadata": {},
   "outputs": [
    {
     "data": {
      "text/plain": [
       "(40, 3)"
      ]
     },
     "execution_count": 32,
     "metadata": {},
     "output_type": "execute_result"
    }
   ],
   "source": [
    "X_test_scale.shape"
   ]
  },
  {
   "cell_type": "code",
   "execution_count": 33,
   "metadata": {},
   "outputs": [
    {
     "name": "stdout",
     "output_type": "stream",
     "text": [
      "[18.15026866 12.96136899 18.05815332 23.66025079 20.68751041 14.26325872\n",
      " 14.92774472 21.38847375 21.14752911 12.75788534 23.99735583  7.20632737\n",
      " 12.30777109 19.22813333 19.41581583 13.44985803 19.62619644  9.24667496\n",
      " 21.1052867  20.87838433 15.52611251 10.91695579 22.82910679 15.82915597\n",
      " 17.40742204  8.17170435 11.88738387 12.69866637 21.71275044  7.94920205\n",
      " 12.49118989 20.43292079  4.71443086  4.72126238 16.7504848  15.74384945\n",
      "  6.74775596 17.73750244  9.01170001 13.60841593]\n"
     ]
    }
   ],
   "source": [
    "y_pred = lm.predict(X_test_scale)\n",
    "print(y_pred)"
   ]
  },
  {
   "cell_type": "markdown",
   "metadata": {},
   "source": [
    "# Evaluation"
   ]
  },
  {
   "cell_type": "markdown",
   "metadata": {},
   "source": [
    "R-Square: Tells you how much variablity you can explain in the data with help og regression equation.You will get value in the range of 0 to 1, close to one means good modle and close to 0 means worst model(sometimes very rarely you will get the value less than 0 also)\n",
    "        It tell you how your regression model is doing in comparison with the mean model. eg if you score is 0.85 the your regression model is doing greater job rather than mean model and if you get a score less than 0 then your mean model is doing better job than your regression model so your regression model is incorrect and mean model is good.if you get acuuracy less than 0.75 then try to tune the model to get improved accuracy"
   ]
  },
  {
   "cell_type": "markdown",
   "metadata": {},
   "source": [
    "IMP NOTE: In every algorithm we have multiple parameter and dedicated approach for  model tunning but when it comes to regression then feature selection is the best technique to tune the model. So for eg. if your model has 12 variables then you can elemenate few variables based on P values or significance value and dont just rely on P value maybe you can eliminate few imp variable so be carefull when you are doing feature engineering"
   ]
  },
  {
   "cell_type": "markdown",
   "metadata": {},
   "source": [
    "Adjusted R-Square:\n",
    "    In Industry we tell adjusted R square not actual R square.Because its adjusted so it does the same job there is major difference between this two. So if you add more and more variable and data points for training data then even if they are not relevent still your R square values will increase but adjusted R square will not increase in few case it will decrease, so if you add relevent data or variable then only your adjusted R square will increase, So thats why adjusted R square has its own reputation when interpreting the linear regression model.So adjusted R square considerd as better matrix because it will work only on significant variables."
   ]
  },
  {
   "cell_type": "markdown",
   "metadata": {},
   "source": [
    "RMSE(Root Mean Square Error): RMSE Value should be low as possible and we have to compare this value with Y value so this value should be close to Y_Min then model is doing good job but if the value is close to Y_Max the model is not performing well, there is no range for RMSE value."
   ]
  },
  {
   "cell_type": "markdown",
   "metadata": {},
   "source": [
    "If i am trying to generate multiple model then i will calculate RMSE, and in industry prespective i will use RMSE to compare all the models to identify the best model. eg If i trained 3 models and all the models have same R square and adjusted R square then we will compare RMSE for all three models, and models with minimum RMSE is the best models, So basically RMSE value is used to compare diffrent models on same data."
   ]
  },
  {
   "cell_type": "markdown",
   "metadata": {},
   "source": [
    "AIC and BIC: We use RMSE when we are using diffrent models for comparison, but when we use diffrent data and same model then we use AIC(Akaike information Criteri) eg. If we use 12 variables for Linear Regression 1 model and 9 variables for Linear Regression 2 we will use AIC score,this should minimum values and min BIC then better the model. "
   ]
  },
  {
   "cell_type": "code",
   "execution_count": 34,
   "metadata": {},
   "outputs": [
    {
     "data": {
      "text/html": [
       "<div>\n",
       "<style scoped>\n",
       "    .dataframe tbody tr th:only-of-type {\n",
       "        vertical-align: middle;\n",
       "    }\n",
       "\n",
       "    .dataframe tbody tr th {\n",
       "        vertical-align: top;\n",
       "    }\n",
       "\n",
       "    .dataframe thead th {\n",
       "        text-align: right;\n",
       "    }\n",
       "</style>\n",
       "<table border=\"1\" class=\"dataframe\">\n",
       "  <thead>\n",
       "    <tr style=\"text-align: right;\">\n",
       "      <th></th>\n",
       "      <th>TV</th>\n",
       "      <th>radio</th>\n",
       "      <th>newspaper</th>\n",
       "      <th>Actual Sales</th>\n",
       "      <th>Predicated Sales</th>\n",
       "    </tr>\n",
       "  </thead>\n",
       "  <tbody>\n",
       "    <tr>\n",
       "      <th>60</th>\n",
       "      <td>210.7</td>\n",
       "      <td>29.5</td>\n",
       "      <td>2.332144</td>\n",
       "      <td>18.4</td>\n",
       "      <td>18.150269</td>\n",
       "    </tr>\n",
       "    <tr>\n",
       "      <th>6</th>\n",
       "      <td>8.7</td>\n",
       "      <td>48.9</td>\n",
       "      <td>4.330733</td>\n",
       "      <td>7.2</td>\n",
       "      <td>12.961369</td>\n",
       "    </tr>\n",
       "    <tr>\n",
       "      <th>21</th>\n",
       "      <td>218.4</td>\n",
       "      <td>27.7</td>\n",
       "      <td>3.996364</td>\n",
       "      <td>18.0</td>\n",
       "      <td>18.058153</td>\n",
       "    </tr>\n",
       "    <tr>\n",
       "      <th>199</th>\n",
       "      <td>283.6</td>\n",
       "      <td>42.0</td>\n",
       "      <td>4.207673</td>\n",
       "      <td>25.5</td>\n",
       "      <td>23.660251</td>\n",
       "    </tr>\n",
       "    <tr>\n",
       "      <th>53</th>\n",
       "      <td>216.4</td>\n",
       "      <td>41.7</td>\n",
       "      <td>3.703768</td>\n",
       "      <td>22.6</td>\n",
       "      <td>20.687510</td>\n",
       "    </tr>\n",
       "    <tr>\n",
       "      <th>20</th>\n",
       "      <td>147.3</td>\n",
       "      <td>23.9</td>\n",
       "      <td>3.000720</td>\n",
       "      <td>14.6</td>\n",
       "      <td>14.263259</td>\n",
       "    </tr>\n",
       "    <tr>\n",
       "      <th>163</th>\n",
       "      <td>188.4</td>\n",
       "      <td>18.1</td>\n",
       "      <td>3.280911</td>\n",
       "      <td>14.9</td>\n",
       "      <td>14.927745</td>\n",
       "    </tr>\n",
       "    <tr>\n",
       "      <th>56</th>\n",
       "      <td>198.9</td>\n",
       "      <td>49.4</td>\n",
       "      <td>4.110874</td>\n",
       "      <td>23.7</td>\n",
       "      <td>21.388474</td>\n",
       "    </tr>\n",
       "    <tr>\n",
       "      <th>70</th>\n",
       "      <td>216.8</td>\n",
       "      <td>43.9</td>\n",
       "      <td>3.339322</td>\n",
       "      <td>22.3</td>\n",
       "      <td>21.147529</td>\n",
       "    </tr>\n",
       "    <tr>\n",
       "      <th>3</th>\n",
       "      <td>17.2</td>\n",
       "      <td>45.9</td>\n",
       "      <td>4.252772</td>\n",
       "      <td>9.3</td>\n",
       "      <td>12.757885</td>\n",
       "    </tr>\n",
       "    <tr>\n",
       "      <th>99</th>\n",
       "      <td>289.7</td>\n",
       "      <td>42.3</td>\n",
       "      <td>3.955082</td>\n",
       "      <td>25.4</td>\n",
       "      <td>23.997356</td>\n",
       "    </tr>\n",
       "    <tr>\n",
       "      <th>11</th>\n",
       "      <td>66.1</td>\n",
       "      <td>5.8</td>\n",
       "      <td>3.226844</td>\n",
       "      <td>8.6</td>\n",
       "      <td>7.206327</td>\n",
       "    </tr>\n",
       "    <tr>\n",
       "      <th>76</th>\n",
       "      <td>16.9</td>\n",
       "      <td>43.7</td>\n",
       "      <td>4.504244</td>\n",
       "      <td>8.7</td>\n",
       "      <td>12.307771</td>\n",
       "    </tr>\n",
       "    <tr>\n",
       "      <th>143</th>\n",
       "      <td>220.5</td>\n",
       "      <td>33.2</td>\n",
       "      <td>3.660994</td>\n",
       "      <td>20.1</td>\n",
       "      <td>19.228133</td>\n",
       "    </tr>\n",
       "    <tr>\n",
       "      <th>125</th>\n",
       "      <td>229.5</td>\n",
       "      <td>32.3</td>\n",
       "      <td>4.320151</td>\n",
       "      <td>19.7</td>\n",
       "      <td>19.415816</td>\n",
       "    </tr>\n",
       "    <tr>\n",
       "      <th>64</th>\n",
       "      <td>102.7</td>\n",
       "      <td>29.6</td>\n",
       "      <td>2.240710</td>\n",
       "      <td>14.0</td>\n",
       "      <td>13.449858</td>\n",
       "    </tr>\n",
       "    <tr>\n",
       "      <th>110</th>\n",
       "      <td>255.4</td>\n",
       "      <td>26.9</td>\n",
       "      <td>1.871802</td>\n",
       "      <td>19.8</td>\n",
       "      <td>19.626196</td>\n",
       "    </tr>\n",
       "    <tr>\n",
       "      <th>79</th>\n",
       "      <td>5.4</td>\n",
       "      <td>29.9</td>\n",
       "      <td>2.341806</td>\n",
       "      <td>5.3</td>\n",
       "      <td>9.246675</td>\n",
       "    </tr>\n",
       "    <tr>\n",
       "      <th>112</th>\n",
       "      <td>241.7</td>\n",
       "      <td>38.0</td>\n",
       "      <td>3.186353</td>\n",
       "      <td>21.8</td>\n",
       "      <td>21.105287</td>\n",
       "    </tr>\n",
       "    <tr>\n",
       "      <th>186</th>\n",
       "      <td>205.0</td>\n",
       "      <td>45.1</td>\n",
       "      <td>3.025291</td>\n",
       "      <td>22.6</td>\n",
       "      <td>20.878384</td>\n",
       "    </tr>\n",
       "    <tr>\n",
       "      <th>155</th>\n",
       "      <td>187.8</td>\n",
       "      <td>21.1</td>\n",
       "      <td>2.351375</td>\n",
       "      <td>15.6</td>\n",
       "      <td>15.526113</td>\n",
       "    </tr>\n",
       "    <tr>\n",
       "      <th>131</th>\n",
       "      <td>0.7</td>\n",
       "      <td>39.6</td>\n",
       "      <td>2.272126</td>\n",
       "      <td>1.6</td>\n",
       "      <td>10.916956</td>\n",
       "    </tr>\n",
       "    <tr>\n",
       "      <th>62</th>\n",
       "      <td>261.3</td>\n",
       "      <td>42.7</td>\n",
       "      <td>4.019980</td>\n",
       "      <td>24.2</td>\n",
       "      <td>22.829107</td>\n",
       "    </tr>\n",
       "    <tr>\n",
       "      <th>88</th>\n",
       "      <td>110.7</td>\n",
       "      <td>40.6</td>\n",
       "      <td>4.162003</td>\n",
       "      <td>16.0</td>\n",
       "      <td>15.829156</td>\n",
       "    </tr>\n",
       "    <tr>\n",
       "      <th>103</th>\n",
       "      <td>280.2</td>\n",
       "      <td>10.1</td>\n",
       "      <td>3.109061</td>\n",
       "      <td>14.8</td>\n",
       "      <td>17.407422</td>\n",
       "    </tr>\n",
       "    <tr>\n",
       "      <th>122</th>\n",
       "      <td>18.8</td>\n",
       "      <td>21.7</td>\n",
       "      <td>3.939638</td>\n",
       "      <td>7.0</td>\n",
       "      <td>8.171704</td>\n",
       "    </tr>\n",
       "    <tr>\n",
       "      <th>137</th>\n",
       "      <td>25.6</td>\n",
       "      <td>39.0</td>\n",
       "      <td>2.332144</td>\n",
       "      <td>9.5</td>\n",
       "      <td>11.887384</td>\n",
       "    </tr>\n",
       "    <tr>\n",
       "      <th>2</th>\n",
       "      <td>44.5</td>\n",
       "      <td>39.3</td>\n",
       "      <td>3.830813</td>\n",
       "      <td>10.4</td>\n",
       "      <td>12.698666</td>\n",
       "    </tr>\n",
       "    <tr>\n",
       "      <th>48</th>\n",
       "      <td>239.9</td>\n",
       "      <td>41.5</td>\n",
       "      <td>2.970414</td>\n",
       "      <td>23.2</td>\n",
       "      <td>21.712750</td>\n",
       "    </tr>\n",
       "    <tr>\n",
       "      <th>173</th>\n",
       "      <td>19.6</td>\n",
       "      <td>20.1</td>\n",
       "      <td>2.890372</td>\n",
       "      <td>7.6</td>\n",
       "      <td>7.949202</td>\n",
       "    </tr>\n",
       "    <tr>\n",
       "      <th>160</th>\n",
       "      <td>131.7</td>\n",
       "      <td>18.4</td>\n",
       "      <td>3.572346</td>\n",
       "      <td>12.9</td>\n",
       "      <td>12.491190</td>\n",
       "    </tr>\n",
       "    <tr>\n",
       "      <th>40</th>\n",
       "      <td>228.0</td>\n",
       "      <td>37.7</td>\n",
       "      <td>3.496508</td>\n",
       "      <td>21.5</td>\n",
       "      <td>20.432921</td>\n",
       "    </tr>\n",
       "    <tr>\n",
       "      <th>77</th>\n",
       "      <td>27.5</td>\n",
       "      <td>1.6</td>\n",
       "      <td>3.077312</td>\n",
       "      <td>6.9</td>\n",
       "      <td>4.714431</td>\n",
       "    </tr>\n",
       "    <tr>\n",
       "      <th>92</th>\n",
       "      <td>28.6</td>\n",
       "      <td>1.5</td>\n",
       "      <td>3.526361</td>\n",
       "      <td>7.3</td>\n",
       "      <td>4.721262</td>\n",
       "    </tr>\n",
       "    <tr>\n",
       "      <th>36</th>\n",
       "      <td>290.7</td>\n",
       "      <td>4.1</td>\n",
       "      <td>2.251292</td>\n",
       "      <td>12.8</td>\n",
       "      <td>16.750485</td>\n",
       "    </tr>\n",
       "    <tr>\n",
       "      <th>179</th>\n",
       "      <td>276.7</td>\n",
       "      <td>2.3</td>\n",
       "      <td>3.206803</td>\n",
       "      <td>11.8</td>\n",
       "      <td>15.743849</td>\n",
       "    </tr>\n",
       "    <tr>\n",
       "      <th>128</th>\n",
       "      <td>80.2</td>\n",
       "      <td>0.0</td>\n",
       "      <td>2.322388</td>\n",
       "      <td>8.8</td>\n",
       "      <td>6.747756</td>\n",
       "    </tr>\n",
       "    <tr>\n",
       "      <th>170</th>\n",
       "      <td>284.3</td>\n",
       "      <td>10.6</td>\n",
       "      <td>2.001480</td>\n",
       "      <td>15.0</td>\n",
       "      <td>17.737502</td>\n",
       "    </tr>\n",
       "    <tr>\n",
       "      <th>47</th>\n",
       "      <td>89.7</td>\n",
       "      <td>9.9</td>\n",
       "      <td>3.602777</td>\n",
       "      <td>10.6</td>\n",
       "      <td>9.011700</td>\n",
       "    </tr>\n",
       "    <tr>\n",
       "      <th>175</th>\n",
       "      <td>222.4</td>\n",
       "      <td>3.4</td>\n",
       "      <td>2.646175</td>\n",
       "      <td>11.5</td>\n",
       "      <td>13.608416</td>\n",
       "    </tr>\n",
       "  </tbody>\n",
       "</table>\n",
       "</div>"
      ],
      "text/plain": [
       "        TV  radio  newspaper  Actual Sales  Predicated Sales\n",
       "60   210.7   29.5   2.332144          18.4         18.150269\n",
       "6      8.7   48.9   4.330733           7.2         12.961369\n",
       "21   218.4   27.7   3.996364          18.0         18.058153\n",
       "199  283.6   42.0   4.207673          25.5         23.660251\n",
       "53   216.4   41.7   3.703768          22.6         20.687510\n",
       "20   147.3   23.9   3.000720          14.6         14.263259\n",
       "163  188.4   18.1   3.280911          14.9         14.927745\n",
       "56   198.9   49.4   4.110874          23.7         21.388474\n",
       "70   216.8   43.9   3.339322          22.3         21.147529\n",
       "3     17.2   45.9   4.252772           9.3         12.757885\n",
       "99   289.7   42.3   3.955082          25.4         23.997356\n",
       "11    66.1    5.8   3.226844           8.6          7.206327\n",
       "76    16.9   43.7   4.504244           8.7         12.307771\n",
       "143  220.5   33.2   3.660994          20.1         19.228133\n",
       "125  229.5   32.3   4.320151          19.7         19.415816\n",
       "64   102.7   29.6   2.240710          14.0         13.449858\n",
       "110  255.4   26.9   1.871802          19.8         19.626196\n",
       "79     5.4   29.9   2.341806           5.3          9.246675\n",
       "112  241.7   38.0   3.186353          21.8         21.105287\n",
       "186  205.0   45.1   3.025291          22.6         20.878384\n",
       "155  187.8   21.1   2.351375          15.6         15.526113\n",
       "131    0.7   39.6   2.272126           1.6         10.916956\n",
       "62   261.3   42.7   4.019980          24.2         22.829107\n",
       "88   110.7   40.6   4.162003          16.0         15.829156\n",
       "103  280.2   10.1   3.109061          14.8         17.407422\n",
       "122   18.8   21.7   3.939638           7.0          8.171704\n",
       "137   25.6   39.0   2.332144           9.5         11.887384\n",
       "2     44.5   39.3   3.830813          10.4         12.698666\n",
       "48   239.9   41.5   2.970414          23.2         21.712750\n",
       "173   19.6   20.1   2.890372           7.6          7.949202\n",
       "160  131.7   18.4   3.572346          12.9         12.491190\n",
       "40   228.0   37.7   3.496508          21.5         20.432921\n",
       "77    27.5    1.6   3.077312           6.9          4.714431\n",
       "92    28.6    1.5   3.526361           7.3          4.721262\n",
       "36   290.7    4.1   2.251292          12.8         16.750485\n",
       "179  276.7    2.3   3.206803          11.8         15.743849\n",
       "128   80.2    0.0   2.322388           8.8          6.747756\n",
       "170  284.3   10.6   2.001480          15.0         17.737502\n",
       "47    89.7    9.9   3.602777          10.6          9.011700\n",
       "175  222.4    3.4   2.646175          11.5         13.608416"
      ]
     },
     "execution_count": 34,
     "metadata": {},
     "output_type": "execute_result"
    }
   ],
   "source": [
    "new_df = pd.DataFrame()\n",
    "new_df = X_test\n",
    "\n",
    "new_df[\"Actual Sales\"] = y_test\n",
    "new_df[\"Predicated Sales\"] = y_pred\n",
    "new_df"
   ]
  },
  {
   "cell_type": "code",
   "execution_count": 35,
   "metadata": {},
   "outputs": [
    {
     "data": {
      "text/plain": [
       "array([18.15026866, 12.96136899, 18.05815332, 23.66025079, 20.68751041,\n",
       "       14.26325872, 14.92774472, 21.38847375, 21.14752911, 12.75788534,\n",
       "       23.99735583,  7.20632737, 12.30777109, 19.22813333, 19.41581583,\n",
       "       13.44985803, 19.62619644,  9.24667496, 21.1052867 , 20.87838433,\n",
       "       15.52611251, 10.91695579, 22.82910679, 15.82915597, 17.40742204,\n",
       "        8.17170435, 11.88738387, 12.69866637, 21.71275044,  7.94920205,\n",
       "       12.49118989, 20.43292079,  4.71443086,  4.72126238, 16.7504848 ,\n",
       "       15.74384945,  6.74775596, 17.73750244,  9.01170001, 13.60841593])"
      ]
     },
     "execution_count": 35,
     "metadata": {},
     "output_type": "execute_result"
    }
   ],
   "source": [
    "y_pred"
   ]
  },
  {
   "cell_type": "code",
   "execution_count": 36,
   "metadata": {},
   "outputs": [
    {
     "name": "stdout",
     "output_type": "stream",
     "text": [
      "R Square:  0.834801071903532\n",
      "Adjusted R Square:  0.8322725168816474\n",
      "RMSE:  2.59297691109306\n"
     ]
    }
   ],
   "source": [
    "from sklearn.metrics import r2_score, mean_squared_error\n",
    "import numpy as np\n",
    "\n",
    "r2 = r2_score(y_test,y_pred)\n",
    "print(\"R Square: \",r2)\n",
    "\n",
    "adjusted_r_squared = 1 - (1-r2)*(len(y)-1)/(len(y)-X.shape[1]-1)\n",
    "print(\"Adjusted R Square: \",adjusted_r_squared)\n",
    "\n",
    "rmse = np.sqrt(mean_squared_error(y_test,y_pred))\n",
    "print(\"RMSE: \",rmse)"
   ]
  },
  {
   "cell_type": "code",
   "execution_count": 37,
   "metadata": {},
   "outputs": [
    {
     "name": "stdout",
     "output_type": "stream",
     "text": [
      "1.6\n",
      "27.0\n"
     ]
    }
   ],
   "source": [
    "print(min(y))\n",
    "print(max(y))"
   ]
  },
  {
   "cell_type": "markdown",
   "metadata": {},
   "source": [
    "RMSE Value is close to min value.The model is best fit model"
   ]
  },
  {
   "cell_type": "code",
   "execution_count": 38,
   "metadata": {},
   "outputs": [
    {
     "data": {
      "text/html": [
       "<div>\n",
       "<style scoped>\n",
       "    .dataframe tbody tr th:only-of-type {\n",
       "        vertical-align: middle;\n",
       "    }\n",
       "\n",
       "    .dataframe tbody tr th {\n",
       "        vertical-align: top;\n",
       "    }\n",
       "\n",
       "    .dataframe thead th {\n",
       "        text-align: right;\n",
       "    }\n",
       "</style>\n",
       "<table border=\"1\" class=\"dataframe\">\n",
       "  <thead>\n",
       "    <tr style=\"text-align: right;\">\n",
       "      <th></th>\n",
       "      <th>TV</th>\n",
       "      <th>radio</th>\n",
       "      <th>newspaper</th>\n",
       "      <th>Actual Sales</th>\n",
       "      <th>Predicated Sales</th>\n",
       "      <th>Devation</th>\n",
       "    </tr>\n",
       "  </thead>\n",
       "  <tbody>\n",
       "    <tr>\n",
       "      <th>60</th>\n",
       "      <td>210.7</td>\n",
       "      <td>29.5</td>\n",
       "      <td>2.332144</td>\n",
       "      <td>18.4</td>\n",
       "      <td>18.150269</td>\n",
       "      <td>0.249731</td>\n",
       "    </tr>\n",
       "    <tr>\n",
       "      <th>6</th>\n",
       "      <td>8.7</td>\n",
       "      <td>48.9</td>\n",
       "      <td>4.330733</td>\n",
       "      <td>7.2</td>\n",
       "      <td>12.961369</td>\n",
       "      <td>-5.761369</td>\n",
       "    </tr>\n",
       "    <tr>\n",
       "      <th>21</th>\n",
       "      <td>218.4</td>\n",
       "      <td>27.7</td>\n",
       "      <td>3.996364</td>\n",
       "      <td>18.0</td>\n",
       "      <td>18.058153</td>\n",
       "      <td>-0.058153</td>\n",
       "    </tr>\n",
       "    <tr>\n",
       "      <th>199</th>\n",
       "      <td>283.6</td>\n",
       "      <td>42.0</td>\n",
       "      <td>4.207673</td>\n",
       "      <td>25.5</td>\n",
       "      <td>23.660251</td>\n",
       "      <td>1.839749</td>\n",
       "    </tr>\n",
       "    <tr>\n",
       "      <th>53</th>\n",
       "      <td>216.4</td>\n",
       "      <td>41.7</td>\n",
       "      <td>3.703768</td>\n",
       "      <td>22.6</td>\n",
       "      <td>20.687510</td>\n",
       "      <td>1.912490</td>\n",
       "    </tr>\n",
       "  </tbody>\n",
       "</table>\n",
       "</div>"
      ],
      "text/plain": [
       "        TV  radio  newspaper  Actual Sales  Predicated Sales  Devation\n",
       "60   210.7   29.5   2.332144          18.4         18.150269  0.249731\n",
       "6      8.7   48.9   4.330733           7.2         12.961369 -5.761369\n",
       "21   218.4   27.7   3.996364          18.0         18.058153 -0.058153\n",
       "199  283.6   42.0   4.207673          25.5         23.660251  1.839749\n",
       "53   216.4   41.7   3.703768          22.6         20.687510  1.912490"
      ]
     },
     "execution_count": 38,
     "metadata": {},
     "output_type": "execute_result"
    }
   ],
   "source": [
    "new_df[\"Devation\"] = new_df[\"Actual Sales\"] - new_df[\"Predicated Sales\"]\n",
    "new_df.to_csv(\"Advertising_Pred.csv\", header=True, index=False)\n",
    "new_df.head()"
   ]
  },
  {
   "cell_type": "markdown",
   "metadata": {},
   "source": [
    "Regularization:\n",
    "                Penalty that we implement on model if they contain any insignificat variable or if there predicting wrong values, so we penalize the model to start performing better\n",
    "        \n",
    "so We have to types of penalty. Lasso and Ridge\n",
    "        \n",
    "Ridge: This is L2 Regression, it reduces the beta values such that the overall impact of the insignificat variable over the model reduces."
   ]
  },
  {
   "cell_type": "markdown",
   "metadata": {},
   "source": [
    "# Ridge Regression"
   ]
  },
  {
   "cell_type": "code",
   "execution_count": 39,
   "metadata": {},
   "outputs": [
    {
     "name": "stdout",
     "output_type": "stream",
     "text": [
      "13.83125\n",
      "[ 3.54911904  2.77794305 -0.04114493]\n"
     ]
    }
   ],
   "source": [
    "from sklearn.linear_model import Ridge\n",
    "\n",
    "lm_ridge = Ridge(alpha=0.5)\n",
    "lm_ridge.fit(X_train_scale, y_train)\n",
    "\n",
    "#print intercept and coefficients of ridge regression\n",
    "print(lm_ridge.intercept_)\n",
    "print(lm_ridge.coef_)\n",
    "\n",
    "#Previous values using Regression\n",
    "#13.83125\n",
    "#[ 3.55979799  2.786444   -0.04359355]"
   ]
  },
  {
   "cell_type": "code",
   "execution_count": 40,
   "metadata": {},
   "outputs": [
    {
     "name": "stdout",
     "output_type": "stream",
     "text": [
      "[('TV', 3.5597979869430008), ('radio', 2.786444004240513), ('newspaper', -0.04359354667533281)]\n"
     ]
    }
   ],
   "source": [
    "#Linear Regression coefficients\n",
    "print(list(zip(feature_cols, lm.coef_)))"
   ]
  },
  {
   "cell_type": "code",
   "execution_count": 41,
   "metadata": {},
   "outputs": [
    {
     "name": "stdout",
     "output_type": "stream",
     "text": [
      "[('TV', 3.5491190413800897), ('radio', 2.777943045450038), ('newspaper', -0.04114492805041528)]\n"
     ]
    }
   ],
   "source": [
    "#Ridge Regression coefficients\n",
    "print(list(zip(feature_cols, lm_ridge.coef_)))"
   ]
  },
  {
   "cell_type": "code",
   "execution_count": 42,
   "metadata": {},
   "outputs": [
    {
     "name": "stdout",
     "output_type": "stream",
     "text": [
      "R Square (Ridge):  0.8344995268129265\n",
      "Adjusted R Square(Ridge) :  0.8319663563049611\n",
      "RMSE (Ridge) :  2.59297691109306\n"
     ]
    }
   ],
   "source": [
    "#prediction using ridge regression\n",
    "Y_pred_ridge = lm_ridge.predict(X_test_scale)\n",
    "\n",
    "from sklearn.metrics import r2_score, mean_squared_error\n",
    "import numpy as np\n",
    "\n",
    "r2 = r2_score(y_test,Y_pred_ridge)\n",
    "print(\"R Square (Ridge): \",r2)\n",
    "\n",
    "adjusted_r_squared = 1 - (1-r2)*(len(y)-1)/(len(y)-X.shape[1]-1)\n",
    "print(\"Adjusted R Square(Ridge) : \",adjusted_r_squared)\n",
    "\n",
    "rmse = np.sqrt(mean_squared_error(y_test,y_pred))\n",
    "print(\"RMSE (Ridge) : \",rmse)"
   ]
  },
  {
   "cell_type": "code",
   "execution_count": 43,
   "metadata": {},
   "outputs": [],
   "source": [
    "#Linear Regression prediction values\n",
    "\n",
    "# R Square:  0.834801071903532\n",
    "# Adjusted R Square:  0.8322725168816474\n",
    "# RMSE:  2.59297691109306 "
   ]
  },
  {
   "cell_type": "markdown",
   "metadata": {},
   "source": [
    "Lasso: This is L1 Regression, it forces beta values of insignificat variables as zero, such that there impact is eliminated. "
   ]
  },
  {
   "cell_type": "markdown",
   "metadata": {},
   "source": [
    "# Lasso Regression"
   ]
  },
  {
   "cell_type": "code",
   "execution_count": 44,
   "metadata": {},
   "outputs": [
    {
     "name": "stdout",
     "output_type": "stream",
     "text": [
      "13.83125\n",
      "[3.37004213 2.58962728 0.        ]\n"
     ]
    }
   ],
   "source": [
    "from sklearn.linear_model import Lasso\n",
    "\n",
    "lm_Lasso = Lasso(alpha=0.2)\n",
    "lm_Lasso.fit(X_train_scale, y_train)\n",
    "\n",
    "#print intercept and coefficients of Lasso regression\n",
    "print(lm_Lasso.intercept_)\n",
    "print(lm_Lasso.coef_)\n"
   ]
  },
  {
   "cell_type": "code",
   "execution_count": 45,
   "metadata": {},
   "outputs": [
    {
     "name": "stdout",
     "output_type": "stream",
     "text": [
      "Linear Regression:  [('TV', 3.5597979869430008), ('radio', 2.786444004240513), ('newspaper', -0.04359354667533281)]\n",
      "Ridge Regression:  [('TV', 3.5491190413800897), ('radio', 2.777943045450038), ('newspaper', -0.04114492805041528)]\n",
      "Lasso Regression:  [('TV', 3.3700421251750656), ('radio', 2.589627283245022), ('newspaper', 0.0)]\n"
     ]
    }
   ],
   "source": [
    "#Coefficients of linear,ridge and Lasso\n",
    "\n",
    "print(\"Linear Regression: \",list(zip(feature_cols, lm.coef_)))\n",
    "print(\"Ridge Regression: \",list(zip(feature_cols, lm_ridge.coef_)))\n",
    "print(\"Lasso Regression: \",list(zip(feature_cols, lm_Lasso.coef_)))"
   ]
  },
  {
   "cell_type": "code",
   "execution_count": 46,
   "metadata": {},
   "outputs": [
    {
     "name": "stdout",
     "output_type": "stream",
     "text": [
      "R Square (Lasso):  0.8277248930930312\n",
      "Adjusted R Square(Lasso) :  0.8250880292118021\n",
      "RMSE (Lasso) :  2.59297691109306\n"
     ]
    }
   ],
   "source": [
    "#prediction using Lasso regression\n",
    "Y_pred_Lasso = lm_Lasso.predict(X_test_scale)\n",
    "\n",
    "from sklearn.metrics import r2_score, mean_squared_error\n",
    "import numpy as np\n",
    "\n",
    "r2 = r2_score(y_test,Y_pred_Lasso)\n",
    "print(\"R Square (Lasso): \",r2)\n",
    "\n",
    "adjusted_r_squared = 1 - (1-r2)*(len(y)-1)/(len(y)-X.shape[1]-1)\n",
    "print(\"Adjusted R Square(Lasso) : \",adjusted_r_squared)\n",
    "\n",
    "rmse = np.sqrt(mean_squared_error(y_test,y_pred))\n",
    "print(\"RMSE (Lasso) : \",rmse)"
   ]
  },
  {
   "cell_type": "markdown",
   "metadata": {},
   "source": [
    "# Comparing with all values(RMSE value) we can conclude that linear regression gives best values for this data"
   ]
  },
  {
   "cell_type": "code",
   "execution_count": null,
   "metadata": {},
   "outputs": [],
   "source": []
  }
 ],
 "metadata": {
  "kernelspec": {
   "display_name": "Python 3",
   "language": "python",
   "name": "python3"
  },
  "language_info": {
   "codemirror_mode": {
    "name": "ipython",
    "version": 3
   },
   "file_extension": ".py",
   "mimetype": "text/x-python",
   "name": "python",
   "nbconvert_exporter": "python",
   "pygments_lexer": "ipython3",
   "version": "3.7.6"
  }
 },
 "nbformat": 4,
 "nbformat_minor": 4
}
